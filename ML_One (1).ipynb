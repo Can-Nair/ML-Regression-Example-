{
  "nbformat": 4,
  "nbformat_minor": 0,
  "metadata": {
    "colab": {
      "provenance": [],
      "collapsed_sections": []
    },
    "kernelspec": {
      "name": "python3",
      "display_name": "Python 3"
    },
    "language_info": {
      "name": "python"
    },
    "gpuClass": "standard"
  },
  "cells": [
    {
      "cell_type": "markdown",
      "source": [
        "# 1) Probleme genel bakış\n"
      ],
      "metadata": {
        "id": "ajQDVYO_NX-M"
      }
    },
    {
      "cell_type": "markdown",
      "source": [
        "# 2) Veriyi Toplama "
      ],
      "metadata": {
        "id": "XSO6D7V5U66V"
      }
    },
    {
      "cell_type": "markdown",
      "source": [
        "veri: https://www.kaggle.com/datasets/himanshunakrani/student-study-hours?resource=download"
      ],
      "metadata": {
        "id": "mBE743HwQUBL"
      }
    },
    {
      "cell_type": "code",
      "execution_count": 3,
      "metadata": {
        "id": "0O-r8oavIYIQ"
      },
      "outputs": [],
      "source": [
        "import pandas as pd\n",
        "import numpy as np\n",
        "import tensorflow as tf\n",
        "import matplotlib.pyplot as plt\n",
        "\n",
        "\n",
        "source = pd.read_csv(\"score.csv\")\n",
        "\n"
      ]
    },
    {
      "cell_type": "markdown",
      "source": [
        "# 3) Veriyi İncelemek "
      ],
      "metadata": {
        "id": "-zw7WFEOVJdm"
      }
    },
    {
      "cell_type": "code",
      "source": [
        "print(source.head()) "
      ],
      "metadata": {
        "colab": {
          "base_uri": "https://localhost:8080/"
        },
        "id": "xGAhMXjEVIet",
        "outputId": "601269ea-0564-43c6-c26a-faa230981c6f"
      },
      "execution_count": 4,
      "outputs": [
        {
          "output_type": "stream",
          "name": "stdout",
          "text": [
            "   Hours  Scores\n",
            "0    2.5      21\n",
            "1    5.1      47\n",
            "2    3.2      27\n",
            "3    8.5      75\n",
            "4    3.5      30\n"
          ]
        }
      ]
    },
    {
      "cell_type": "code",
      "source": [
        "source.shape"
      ],
      "metadata": {
        "colab": {
          "base_uri": "https://localhost:8080/"
        },
        "id": "Ta49SHY-Ro6-",
        "outputId": "1d1bdacc-f603-45fc-c00e-8287ce9c00ff"
      },
      "execution_count": 5,
      "outputs": [
        {
          "output_type": "execute_result",
          "data": {
            "text/plain": [
              "(25, 2)"
            ]
          },
          "metadata": {},
          "execution_count": 5
        }
      ]
    },
    {
      "cell_type": "code",
      "source": [
        "source.info()"
      ],
      "metadata": {
        "colab": {
          "base_uri": "https://localhost:8080/"
        },
        "id": "5yixIjWMRw7A",
        "outputId": "bc98c33c-4a7f-48fd-b3a3-00959c4a3227"
      },
      "execution_count": 6,
      "outputs": [
        {
          "output_type": "stream",
          "name": "stdout",
          "text": [
            "<class 'pandas.core.frame.DataFrame'>\n",
            "RangeIndex: 25 entries, 0 to 24\n",
            "Data columns (total 2 columns):\n",
            " #   Column  Non-Null Count  Dtype  \n",
            "---  ------  --------------  -----  \n",
            " 0   Hours   25 non-null     float64\n",
            " 1   Scores  25 non-null     int64  \n",
            "dtypes: float64(1), int64(1)\n",
            "memory usage: 528.0 bytes\n"
          ]
        }
      ]
    },
    {
      "cell_type": "code",
      "source": [
        "# use the scatter method to create a scatter plot\n",
        "plt.scatter(x= source['Hours'], y= source['Scores'], color='green')\n",
        "#  label the axioms \n",
        "plt.xlabel(\"Hours\")\n",
        "plt.ylabel(\"Scores\")\n",
        "\n",
        "# Title of the plot\n",
        "\n",
        "plt.title(\"Hours vs Scores\")\n",
        "\n",
        "plt.show()"
      ],
      "metadata": {
        "colab": {
          "base_uri": "https://localhost:8080/",
          "height": 295
        },
        "id": "0Ht5X0iPSs8Y",
        "outputId": "17f110fa-c7ab-49cc-f212-086c56c83d00"
      },
      "execution_count": 7,
      "outputs": [
        {
          "output_type": "display_data",
          "data": {
            "text/plain": [
              "<Figure size 432x288 with 1 Axes>"
            ],
            "image/png": "[encoded data removed]"
          },
          "metadata": {
            "needs_background": "light"
          }
        }
      ]
    },
    {
      "cell_type": "markdown",
      "source": [
        "#4) Veriyi Modele Uygun Hale Getir"
      ],
      "metadata": {
        "id": "GVz2wTwyUo5h"
      }
    },
    {
      "cell_type": "code",
      "source": [
        "# Splitting the data \n",
        "# btween dependant and features variables, x is the features and y is the dependent \n",
        "x = source[\"Hours\"]\n",
        "y = source[\"Scores\"]"
      ],
      "metadata": {
        "id": "NTsySzp0Vm-k"
      },
      "execution_count": 8,
      "outputs": []
    },
    {
      "cell_type": "code",
      "source": [
        "print(x)\n",
        "print(y)"
      ],
      "metadata": {
        "colab": {
          "base_uri": "https://localhost:8080/"
        },
        "id": "hZPV94zoWl0Q",
        "outputId": "ebcc8ee2-212f-4bd1-de49-203c84f42309"
      },
      "execution_count": 9,
      "outputs": [
        {
          "output_type": "stream",
          "name": "stdout",
          "text": [
            "0     2.5\n",
            "1     5.1\n",
            "2     3.2\n",
            "3     8.5\n",
            "4     3.5\n",
            "5     1.5\n",
            "6     9.2\n",
            "7     5.5\n",
            "8     8.3\n",
            "9     2.7\n",
            "10    7.7\n",
            "11    5.9\n",
            "12    4.5\n",
            "13    3.3\n",
            "14    1.1\n",
            "15    8.9\n",
            "16    2.5\n",
            "17    1.9\n",
            "18    6.1\n",
            "19    7.4\n",
            "20    2.7\n",
            "21    4.8\n",
            "22    3.8\n",
            "23    6.9\n",
            "24    7.8\n",
            "Name: Hours, dtype: float64\n",
            "0     21\n",
            "1     47\n",
            "2     27\n",
            "3     75\n",
            "4     30\n",
            "5     20\n",
            "6     88\n",
            "7     60\n",
            "8     81\n",
            "9     25\n",
            "10    85\n",
            "11    62\n",
            "12    41\n",
            "13    42\n",
            "14    17\n",
            "15    95\n",
            "16    30\n",
            "17    24\n",
            "18    67\n",
            "19    69\n",
            "20    30\n",
            "21    54\n",
            "22    35\n",
            "23    76\n",
            "24    86\n",
            "Name: Scores, dtype: int64\n"
          ]
        }
      ]
    },
    {
      "cell_type": "code",
      "source": [
        "import sklearn.model_selection\n",
        "X_train, X_test, Y_train, Y_test = sklearn.model_selection.train_test_split(x, y, train_size= 0.8, test_size=0.2)"
      ],
      "metadata": {
        "id": "uvuIogZfW6l4"
      },
      "execution_count": 10,
      "outputs": []
    },
    {
      "cell_type": "code",
      "source": [
        "print(X_train) # the rows are automatically scrambled"
      ],
      "metadata": {
        "colab": {
          "base_uri": "https://localhost:8080/"
        },
        "id": "y_dIZWdt_95y",
        "outputId": "4b4925c7-ec30-45cd-bb26-f46b4074aa93"
      },
      "execution_count": 11,
      "outputs": [
        {
          "output_type": "stream",
          "name": "stdout",
          "text": [
            "6     9.2\n",
            "7     5.5\n",
            "24    7.8\n",
            "18    6.1\n",
            "19    7.4\n",
            "4     3.5\n",
            "13    3.3\n",
            "3     8.5\n",
            "16    2.5\n",
            "9     2.7\n",
            "20    2.7\n",
            "8     8.3\n",
            "11    5.9\n",
            "17    1.9\n",
            "1     5.1\n",
            "22    3.8\n",
            "12    4.5\n",
            "2     3.2\n",
            "5     1.5\n",
            "15    8.9\n",
            "Name: Hours, dtype: float64\n"
          ]
        }
      ]
    },
    {
      "cell_type": "code",
      "source": [
        "print(Y_train)"
      ],
      "metadata": {
        "colab": {
          "base_uri": "https://localhost:8080/"
        },
        "id": "tXsaaS3qAENH",
        "outputId": "b7191d39-b421-4e8a-b6dc-d23d32c1b8e5"
      },
      "execution_count": 12,
      "outputs": [
        {
          "output_type": "stream",
          "name": "stdout",
          "text": [
            "6     88\n",
            "7     60\n",
            "24    86\n",
            "18    67\n",
            "19    69\n",
            "4     30\n",
            "13    42\n",
            "3     75\n",
            "16    30\n",
            "9     25\n",
            "20    30\n",
            "8     81\n",
            "11    62\n",
            "17    24\n",
            "1     47\n",
            "22    35\n",
            "12    41\n",
            "2     27\n",
            "5     20\n",
            "15    95\n",
            "Name: Scores, dtype: int64\n"
          ]
        }
      ]
    },
    {
      "cell_type": "code",
      "source": [
        "print(X_train.shape) # it has to be an array for sklearn therefore we have to convert its type to array \n",
        "print(type(X_train)) # As you can see it is not an array \n",
        "X_train = np.array(X_train)\n",
        "X_test = np.array(X_test) \n",
        "Y_train = np.array(Y_train)\n",
        "Y_test = np.array(Y_test)\n",
        "print(type(X_train))\n"
      ],
      "metadata": {
        "id": "N5aDp0-FDQ0w",
        "colab": {
          "base_uri": "https://localhost:8080/"
        },
        "outputId": "1df2427b-3c4a-4094-f1d1-3dd15be92142"
      },
      "execution_count": 13,
      "outputs": [
        {
          "output_type": "stream",
          "name": "stdout",
          "text": [
            "(20,)\n",
            "<class 'pandas.core.series.Series'>\n",
            "<class 'numpy.ndarray'>\n"
          ]
        }
      ]
    },
    {
      "cell_type": "code",
      "source": [
        "X_train.shape"
      ],
      "metadata": {
        "colab": {
          "base_uri": "https://localhost:8080/"
        },
        "id": "aWE-tfjecgCz",
        "outputId": "2fb73463-b74a-4b68-a2a6-9605fbecca76"
      },
      "execution_count": 14,
      "outputs": [
        {
          "output_type": "execute_result",
          "data": {
            "text/plain": [
              "(20,)"
            ]
          },
          "metadata": {},
          "execution_count": 14
        }
      ]
    },
    {
      "cell_type": "code",
      "source": [
        "X_train = X_train.reshape(-1, 1) # this means reshape the array such that there is one column -1 means figure out how many rows to satisfy our condition \n",
        "print(X_train.shape)\n",
        "X_test = X_test.reshape(5, 1)\n",
        "Y_train = Y_train.reshape(-1, 1)\n",
        "Y_test = Y_test.reshape(-1, 1)\n",
        "print(Y_train.shape)"
      ],
      "metadata": {
        "id": "IpbYFZyYiYFi",
        "colab": {
          "base_uri": "https://localhost:8080/"
        },
        "outputId": "6ae63636-ecb0-4ede-917d-58d1554a4a76"
      },
      "execution_count": 25,
      "outputs": [
        {
          "output_type": "stream",
          "name": "stdout",
          "text": [
            "(20, 1)\n",
            "(20, 1)\n"
          ]
        }
      ]
    },
    {
      "cell_type": "markdown",
      "source": [
        "# 5) Model Seçimi ve modelin eğitilmesi\n"
      ],
      "metadata": {
        "id": "uoHEdHb2vEZx"
      }
    },
    {
      "cell_type": "code",
      "source": [
        "import sklearn.linear_model\n",
        "lin_model = sklearn.linear_model.LinearRegression()\n",
        "lin_model.fit(X_train, Y_train) #train with the training features and the results based on them "
      ],
      "metadata": {
        "colab": {
          "base_uri": "https://localhost:8080/"
        },
        "id": "p3b3pNpBtLsY",
        "outputId": "935a5575-83cb-4e66-b8e1-aee2d0c237a6"
      },
      "execution_count": 26,
      "outputs": [
        {
          "output_type": "execute_result",
          "data": {
            "text/plain": [
              "LinearRegression()"
            ]
          },
          "metadata": {},
          "execution_count": 26
        }
      ]
    },
    {
      "cell_type": "markdown",
      "source": [
        "#6) Modelin Optimizasyonu"
      ],
      "metadata": {
        "id": "GNAfkF1kQllW"
      }
    },
    {
      "cell_type": "code",
      "source": [
        "import sklearn.metrics \n",
        "predictions = lin_model.predict(X_test)\n",
        "print(predictions) # predicted results based on features\n",
        "print(X_test) # features "
      ],
      "metadata": {
        "id": "UbJb9trexXrg",
        "colab": {
          "base_uri": "https://localhost:8080/"
        },
        "outputId": "718f6f14-1e04-4163-b627-a4ab7d235529"
      },
      "execution_count": 29,
      "outputs": [
        {
          "output_type": "stream",
          "name": "stdout",
          "text": [
            "[[26.75500455]\n",
            " [68.72746343]\n",
            " [13.40013127]\n",
            " [48.69515351]\n",
            " [76.3588196 ]]\n",
            "[[2.5]\n",
            " [6.9]\n",
            " [1.1]\n",
            " [4.8]\n",
            " [7.7]]\n"
          ]
        }
      ]
    },
    {
      "cell_type": "code",
      "source": [
        "for i in range(len(X_test)):\n",
        "    print(f\"{i}: Gerçek Değer: {Y_test[i]} - Tahmin: {predictions[i]} \") # the real values vs predictions"
      ],
      "metadata": {
        "colab": {
          "base_uri": "https://localhost:8080/"
        },
        "id": "LI7iCc8qSrRI",
        "outputId": "6bbb6d08-2d8a-42e4-d169-ee2f46d58a61"
      },
      "execution_count": 31,
      "outputs": [
        {
          "output_type": "stream",
          "name": "stdout",
          "text": [
            "0: Gerçek Değer: [21] - Tahmin: [26.75500455] \n",
            "1: Gerçek Değer: [76] - Tahmin: [68.72746343] \n",
            "2: Gerçek Değer: [17] - Tahmin: [13.40013127] \n",
            "3: Gerçek Değer: [54] - Tahmin: [48.69515351] \n",
            "4: Gerçek Değer: [85] - Tahmin: [76.3588196] \n"
          ]
        }
      ]
    },
    {
      "cell_type": "code",
      "source": [
        "mae = sklearn.metrics.mean_absolute_error(Y_test, predictions) #find the mean absolute error between the real values and predictions\n",
        "mse = sklearn.metrics.mean_squared_error(Y_test, predictions)  #find the mean squared error between the real values and predictions\n",
        "r2 = sklearn.metrics.r2_score(Y_test, predictions) # accuaracy R^2\n",
        "print(f\"mean absolute error: {mae}\")\n",
        "print(f\"mean squared error: {mse}\")\n",
        "print(f\"R2: {r2}\")\n",
        "\n",
        "# For a specific value \n",
        "score_prediction = lin_model.predict([[5]]) # if a student studies 5 hours \n",
        "print(score_prediction) # As we can see the R^2 accuracy value which is constant for all elements, whatever score_prediction is it is 95 % accurate"
      ],
      "metadata": {
        "colab": {
          "base_uri": "https://localhost:8080/"
        },
        "id": "7CQj4aWEUIuk",
        "outputId": "bf59989c-1393-47e6-c1a1-d2c63ec2e327"
      },
      "execution_count": 38,
      "outputs": [
        {
          "output_type": "stream",
          "name": "stdout",
          "text": [
            "mean absolute error: 6.114687348118851\n",
            "mean squared error: 40.35606308045318\n",
            "R2: 0.9475241039731962\n",
            "[[50.60299255]]\n"
          ]
        }
      ]
    },
    {
      "cell_type": "code",
      "source": [
        "# Now we are gonna do smth differently we are gonnna predict from the training set which is normaly a no no we do this to show\n",
        "Y_predictions_For_Training_X = lin_model.predict(X_train)\n",
        "\n",
        "# use the scatter method to create a scatter plot\n",
        "plt.scatter(x= source['Hours'], y= source['Scores'], color='green')\n",
        "plt.plot(X_train, Y_predictions_For_Training_X) # the predictions vs the dataset \n",
        "\n",
        "plt.scatter(x=5, y=lin_model.predict([[5]]), color=\"red\")\n",
        "#  label the axioms \n",
        "plt.xlabel(\"Hours\")\n",
        "plt.ylabel(\"Scores\")\n",
        "\n",
        "# Title of the plot\n",
        "\n",
        "plt.title(\"Hours vs Scores\")\n",
        "\n",
        "plt.show()"
      ],
      "metadata": {
        "colab": {
          "base_uri": "https://localhost:8080/",
          "height": 295
        },
        "id": "sy7uRE9ykZyG",
        "outputId": "69a9b13e-5b48-4ecb-cdb7-5b3ba227c34b"
      },
      "execution_count": 41,
      "outputs": [
        {
          "output_type": "display_data",
          "data": {
            "text/plain": [
              "<Figure size 432x288 with 1 Axes>"
            ],
            "image/png": "[encoded data removed]"
          },
          "metadata": {
            "needs_background": "light"
          }
        }
      ]
    }
  ]
}